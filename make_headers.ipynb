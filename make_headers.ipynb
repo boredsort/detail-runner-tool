{
 "cells": [
  {
   "cell_type": "code",
   "execution_count": 1,
   "id": "8519e772",
   "metadata": {},
   "outputs": [],
   "source": [
    "def get_headers(s, sep=': ', strip_cookie=True, strip_cl=True, strip_headers: list = []) -> dict():\n",
    "    d = dict()\n",
    "    for kv in s.split('\\n'):\n",
    "        kv = kv.strip()\n",
    "        if kv and sep in kv:\n",
    "            v=''\n",
    "            k = kv.split(sep)[0]\n",
    "            if len(kv.split(sep)) == 1:\n",
    "                v = ''\n",
    "            else:\n",
    "                v = kv.split(sep)[1]\n",
    "            if v == '\\'\\'':\n",
    "                v =''\n",
    "            # v = kv.split(sep)[1]\n",
    "            if strip_cookie and k.lower() == 'cookie': continue\n",
    "            if strip_cl and k.lower() == 'content-length': continue\n",
    "            if k in strip_headers: continue\n",
    "            d[k] = v\n",
    "    return d                                                                                                                                                            \n"
   ]
  },
  {
   "cell_type": "code",
   "execution_count": 2,
   "id": "a794483d",
   "metadata": {},
   "outputs": [],
   "source": [
    "# paste your header\n",
    "header = get_headers(\"\"\"\n",
    "Accept: */*\n",
    "Accept-Encoding: gzip, deflate, br\n",
    "Accept-Language: en-US,en;q=0.9\n",
    "Connection: keep-alive\n",
    "Cookie: SESSION=TbsnAcnXBfbxMdSLTk90mw==; SessionGroup=7339753; Language=1; ClId=1580908891.49.148.142.196; AB11=2; AB21=1; AB13=2; AB14=1; AB15=2; AB16=2; AB23=1; OptanonAlertBoxClosed=2022-06-02T01:14:06.447Z; _gcl_au=1.1.234527439.1654132447; _gid=GA1.2.697478522.1654132447; _gat_UA-32767651-1=1; _ALGOLIA=anonymous-e31f7ac3-6d9b-4fb1-a8a9-0acd1a6532fa; _hjFirstSeen=1; _hjIncludedInSessionSample=1; _hjSession_19862=eyJpZCI6ImU4YzM4YTAzLWIyMWEtNGRkNy05YmJhLTEzY2I3ZmUwYWIzMSIsImNyZWF0ZWQiOjE2NTQxMzI0NDczNDQsImluU2FtcGxlIjp0cnVlfQ==; _hjIncludedInPageviewSample=1; _hjAbsoluteSessionInProgress=0; _fbp=fb.1.1654132447687.992522551; _tt_enable_cookie=1; _ttp=ff6703a0-fd19-4c99-aab2-91f32fe62259; _pin_unauth=dWlkPVl6QmhOVEUyTW1NdE16QXhNQzAwWWprMkxXSTJOell0T0RnMU1HTmpZVFEzTVRneA; outbrain_cid_fetch=true; _clck=1hx735x|1|f1z|0; iadvize-7696-vuid=e57dbbdc8bdb7ad9feb4415384b3c31e62980ee69a473; sbt_i=7ZTJiODBkNjQtNzE4ZS00ODEwLTg4ODctMDVlOGU2YzI0OTgxOzM2YyZDNmZTItZGRkZC00ZmE0LWIxYTAtZDMyYmNjNjZiNTJkOzsM=; th_u=!kYpz4.-pQDi5I23TMks; cto_bundle=dQYWtV9uJTJCU0l6ZllnRWpPWXElMkJTREglMkZHV1g0UDhCM0NmVkZwR2hIZERxQ3VpSWtkSkNxTGMwJTJGbUFZOGJnbG5rJTJGUWZ1UHRJTDZXQ0dHTzVySEpORTU0WkozMHRGYzMxQWVMVzUyZDklMkJFcmxPQzhDNFBYMW5JZWNxSkZKbXlCdHNUZ2pCcA; kameleoonVisitorCode=_js_vjit0c3mr9ipebg7; OptanonConsent=isGpcEnabled=0&datestamp=Thu+Jun+02+2022+09%3A14%3A27+GMT%2B0800+(Philippine+Standard+Time)&version=6.17.0&isIABGlobal=false&hosts=&consentId=b70325af-55f0-40e2-be36-dbfeb767c221&interactionCount=1&landingPath=NotLandingPage&groups=C0001%3A1%2CC0003%3A1%2CC0002%3A1%2CC0004%3A1&geolocation=%3B&AwaitingReconsent=false; _ga_RXSZMNYNQ0=GS1.1.1654132446.1.1.1654132467.0; _ga=GA1.1.490581908.1654132447; _uetsid=4cd57f20e21111ecb3fd5392f9d1609c; _uetvid=4cd58020e21111ec84f56fe3d2bb754e; CSPSESSIONID=0KJDDUs0oUx9wQg3K5VkFO7Zvc$FE; _hjSessionUser_19862=eyJpZCI6IjZlMmZjMjUwLWE3MjgtNTg3ZC04ZGE4LTI3ZjZmNjRjZjAyMCIsImNyZWF0ZWQiOjE2NTQxMzI0NDczMjQsImV4aXN0aW5nIjp0cnVlfQ==; _clsk=1t11bsg|1654132468577|2|1|e.clarity.ms/collect\n",
    "Host: www.vandenborre.be\n",
    "sec-ch-ua: \" Not A;Brand\";v=\"99\", \"Chromium\";v=\"99\", \"Google Chrome\";v=\"99\"\n",
    "sec-ch-ua-mobile: ?0\n",
    "sec-ch-ua-platform: \"Linux\"\n",
    "Sec-Fetch-Dest: empty\n",
    "Sec-Fetch-Mode: no-cors\n",
    "Sec-Fetch-Site: same-origin\n",
    "User-Agent: Mozilla/5.0 (X11; Linux x86_64) AppleWebKit/537.36 (KHTML, like Gecko) Chrome/99.0.4844.51 Safari/537.36\n",
    "\"\"\")\n",
    "\n",
    "temp = ''"
   ]
  },
  {
   "cell_type": "code",
   "execution_count": 3,
   "id": "a85214d6",
   "metadata": {},
   "outputs": [
    {
     "name": "stdout",
     "output_type": "stream",
     "text": [
      "{'Accept': '*/*', 'Accept-Encoding': 'gzip, deflate, br', 'Accept-Language': 'en-US,en;q=0.9', 'Connection': 'keep-alive', 'Host': 'www.vandenborre.be', 'sec-ch-ua': '\" Not A;Brand\";v=\"99\", \"Chromium\";v=\"99\", \"Google Chrome\";v=\"99\"', 'sec-ch-ua-mobile': '?0', 'sec-ch-ua-platform': '\"Linux\"', 'Sec-Fetch-Dest': 'empty', 'Sec-Fetch-Mode': 'no-cors', 'Sec-Fetch-Site': 'same-origin', 'User-Agent': 'Mozilla/5.0 (X11; Linux x86_64) AppleWebKit/537.36 (KHTML, like Gecko) Chrome/99.0.4844.51 Safari/537.36'}\n"
     ]
    }
   ],
   "source": [
    "print(header)"
   ]
  }
 ],
 "metadata": {
  "kernelspec": {
   "display_name": "Python 3 (ipykernel)",
   "language": "python",
   "name": "python3"
  },
  "language_info": {
   "codemirror_mode": {
    "name": "ipython",
    "version": 3
   },
   "file_extension": ".py",
   "mimetype": "text/x-python",
   "name": "python",
   "nbconvert_exporter": "python",
   "pygments_lexer": "ipython3",
   "version": "3.8.10"
  }
 },
 "nbformat": 4,
 "nbformat_minor": 5
}
