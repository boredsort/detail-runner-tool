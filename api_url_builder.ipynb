{
 "cells": [
  {
   "cell_type": "code",
   "execution_count": 15,
   "id": "50a8e7b7",
   "metadata": {},
   "outputs": [
    {
     "name": "stdout",
     "output_type": "stream",
     "text": [
      "productId=010-01635-31&productTitle=GARMIN%20%20%20%20Alpha%2050%20%2B%20T5%20Mini%20%20%20%20%20%20%20%20%20%20GPS&SKU=010-01635-31&brandName=GARMIN&ean=0753759163167&oos=0&maxItems=15&ytwv=&_b=Chrome&_bv=94.0.4606.81&p=1&_w=1351&_h=313&_pl=sv&_cl=sv&ownVideos=%5B%7B%22ytVideoId%22%3A%22t275-6Uyc_o%22%7D%5D&tsltd=0&callback=_vdlyc00e6161f4&hn=www.milrab.se&href=https%3A%2F%2Fw%C4%88.milrab.se%2Fgar%C4%8Bn-alpha-50-t5-%C4%98i%2Fcat-p%C4%A9%2Fp10811%C4%B44&sId=s%3AwI8hbRg5Pi5DTCFkSvvvcYlJV08aiyA0.9O6DpiPfs%2B0gOuJ87D0xVNB4ZeE6JaN6s2V6yRpE%2FG8\n"
     ]
    }
   ],
   "source": [
    "from urllib.parse import urlparse,urlencode, quote, unquote\n",
    "\n",
    "url = 'https://dapi.videoly.co/1/videos/0/792/?productId=010-01635-31&productTitle=GARMIN%20%20%20%20Alpha%2050%20%2B%20T5%20Mini%20%20%20%20%20%20%20%20%20%20GPS&SKU=010-01635-31&brandName=GARMIN&ean=0753759163167&oos=0&maxItems=15&ytwv=&_b=Chrome&_bv=94.0.4606.81&p=1&_w=1351&_h=313&_pl=sv&_cl=sv&ownVideos=%5B%7B%22ytVideoId%22%3A%22t275-6Uyc_o%22%7D%5D&tsltd=0&callback=_vdlyc00e6161f4&hn=www.milrab.se&href=https%3A%2F%2Fw%C4%88.milrab.se%2Fgar%C4%8Bn-alpha-50-t5-%C4%98i%2Fcat-p%C4%A9%2Fp10811%C4%B44&sId=s%3AwI8hbRg5Pi5DTCFkSvvvcYlJV08aiyA0.9O6DpiPfs%2B0gOuJ87D0xVNB4ZeE6JaN6s2V6yRpE%2FG8'\n",
    "\n",
    "\n",
    "productId = '010-02410-15'\n",
    "productTitle = quote('GARMIN - fenix 6 Pro Solar - Klockor')\n",
    "brand = 'GARMIN'\n",
    "gtin13_or_ean = '753759251840'\n",
    "href = quote('https://www.milrab.se/garmin-fenix-6-pro-solar/cat-p/c/p1500180300')\n",
    "\n",
    "dict = {\n",
    "    'productId':productId,\n",
    "    'productTitle':productTitle,\n",
    "    'brandName': brand,\n",
    "    'ean': gtin13_or_ean,\n",
    "    'sku': productId,\n",
    "    'oos':'0',\n",
    "    'maxItems':'15',\n",
    "    'p':'1',\n",
    "    '_w':'1351',\n",
    "    '_h':'313',\n",
    "    '_pl':'sv',\n",
    "    'ownVideos':'%7B%22ytVideoId%22%3A%22t275-6Uyc_o%22%7D%5D',\n",
    "    'tsltd':'0',\n",
    "    'callback':'_vdlyc00e6161f4',\n",
    "    'hn':'www.milrab.se',\n",
    "    'href': href,\n",
    "    'sId':'s%3AwI8hbRg5Pi5DTCFkSvvvcYlJV08aiyA0.9O6DpiPfs%2B0gOuJ87D0xVNB4ZeE6JaN6s2V6yRpE%2FG8',\n",
    "    \n",
    "}\n",
    "queries = urlencode(dict)\n",
    "parse = urlparse(url)\n",
    "\n",
    "print(parse.query)\n",
    "\n",
    "\n"
   ]
  },
  {
   "cell_type": "code",
   "execution_count": 16,
   "id": "89ae002e",
   "metadata": {},
   "outputs": [],
   "source": [
    "new_url = f'{parse.scheme}://{parse.netloc}{parse.path}?{queries}'"
   ]
  },
  {
   "cell_type": "code",
   "execution_count": 17,
   "id": "5212b48e",
   "metadata": {},
   "outputs": [],
   "source": [
    "queries = urlencode(dict)"
   ]
  },
  {
   "cell_type": "code",
   "execution_count": 18,
   "id": "28f1c7fe",
   "metadata": {},
   "outputs": [
    {
     "name": "stdout",
     "output_type": "stream",
     "text": [
      "https://dapi.videoly.co/1/videos/0/792/?productId=010-02410-15&productTitle=GARMIN%2520-%2520fenix%25206%2520Pro%2520Solar%2520-%2520Klockor&brandName=GARMIN&ean=753759251840&sku=010-02410-15&oos=0&maxItems=15&p=1&_w=1351&_h=313&_pl=sv&ownVideos=%257B%2522ytVideoId%2522%253A%2522t275-6Uyc_o%2522%257D%255D&tsltd=0&callback=_vdlyc00e6161f4&hn=www.milrab.se&href=https%253A%2F%2Fwww.milrab.se%2Fgarmin-fenix-6-pro-solar%2Fcat-p%2Fc%2Fp1500180300&sId=s%253AwI8hbRg5Pi5DTCFkSvvvcYlJV08aiyA0.9O6DpiPfs%252B0gOuJ87D0xVNB4ZeE6JaN6s2V6yRpE%252FG8\n",
      "https://dapi.videoly.co/1/videos/0/792/?productId=010-01635-31&productTitle=GARMIN%20%20%20%20Alpha%2050%20%2B%20T5%20Mini%20%20%20%20%20%20%20%20%20%20GPS&SKU=010-01635-31&brandName=GARMIN&ean=0753759163167&oos=0&maxItems=15&ytwv=&_b=Chrome&_bv=94.0.4606.81&p=1&_w=1351&_h=313&_pl=sv&_cl=sv&ownVideos=%5B%7B%22ytVideoId%22%3A%22t275-6Uyc_o%22%7D%5D&tsltd=0&callback=_vdlyc00e6161f4&hn=www.milrab.se&href=https%3A%2F%2Fw%C4%88.milrab.se%2Fgar%C4%8Bn-alpha-50-t5-%C4%98i%2Fcat-p%C4%A9%2Fp10811%C4%B44&sId=s%3AwI8hbRg5Pi5DTCFkSvvvcYlJV08aiyA0.9O6DpiPfs%2B0gOuJ87D0xVNB4ZeE6JaN6s2V6yRpE%2FG8\n"
     ]
    }
   ],
   "source": [
    "print(new_url)\n",
    "print(url)\n"
   ]
  },
  {
   "cell_type": "code",
   "execution_count": 5,
   "id": "81e4c104",
   "metadata": {},
   "outputs": [
    {
     "name": "stdout",
     "output_type": "stream",
     "text": [
      "['productId=010-01635-31', 'productTitle=GARMIN%20%20%20%20Alpha%2050%20%2B%20T5%20Mini%20%20%20%20%20%20%20%20%20%20GPS', 'SKU=010-01635-31', 'brandName=GARMIN', 'ean=0753759163167', 'oos=0', 'maxItems=15', 'ytwv=', '_b=Chrome', '_bv=94.0.4606.81', 'p=1', '_w=1351', '_h=313', '_pl=sv', '_cl=sv', 'ownVideos=%5B%7B%22ytVideoId%22%3A%22t275-6Uyc_o%22%7D%5D', 'tsltd=0', 'callback=_vdlyc00e6161f4', 'hn=www.milrab.se', 'href=https%3A%2F%2Fw%C4%88.milrab.se%2Fgar%C4%8Bn-alpha-50-t5-%C4%98i%2Fcat-p%C4%A9%2Fp10811%C4%B44', 'sId=s%3AwI8hbRg5Pi5DTCFkSvvvcYlJV08aiyA0.9O6DpiPfs%2B0gOuJ87D0xVNB4ZeE6JaN6s2V6yRpE%2FG8']\n"
     ]
    }
   ],
   "source": [
    "\n",
    "print(parse.query.split(\"&\"))\n",
    "                        "
   ]
  },
  {
   "cell_type": "code",
   "execution_count": 6,
   "id": "78b196f3",
   "metadata": {},
   "outputs": [
    {
     "name": "stdout",
     "output_type": "stream",
     "text": [
      "payload={\"limit\":40,\"query\":\"FISH FINDER\",\"clerk-content-id\":2,\"template\":\"search-page\",\"facets\":[\"price\",\"categories\",\"brand\"],\"key\":\"GiC2jNYSWTM2HiQ6jjLq7F5U0iGAtjIM\",\"visitor\":\"QAYEIEgA\",\"_\":1641180912}&callback=__clerk_cb_0\n"
     ]
    }
   ],
   "source": [
    "url2 = 'https://api.clerk.io/v2/?payload=%7B%22limit%22%3A40%2C%22query%22%3A%22FISH%20FINDER%22%2C%22clerk-content-id%22%3A2%2C%22template%22%3A%22search-page%22%2C%22facets%22%3A%5B%22price%22%2C%22categories%22%2C%22brand%22%5D%2C%22key%22%3A%22GiC2jNYSWTM2HiQ6jjLq7F5U0iGAtjIM%22%2C%22visitor%22%3A%22QAYEIEgA%22%2C%22_%22%3A1641180912%7D&callback=__clerk_cb_0'\n",
    "\n",
    "parse = urlparse(url2)\n",
    "\n",
    "print(unquote(parse.query))"
   ]
  },
  {
   "cell_type": "code",
   "execution_count": 7,
   "id": "0cf744c8",
   "metadata": {},
   "outputs": [],
   "source": [
    "payload = {\"limit\":100,\n",
    "        \"query\":\"fish finder\",\n",
    "        \"clerk-content-id\":2,\n",
    "        \"template\":\"search-page\",\n",
    "        \"facets\":[\"price\",\"categories\",\"brand\"],\n",
    "        \"key\":\"GiC2jNYSWTM2HiQ6jjLq7F5U0iGAtjIM\",\n",
    "        \"visitor\":\"QAYEIEgA\",\"_\":1641180912\n",
    "        }"
   ]
  },
  {
   "cell_type": "code",
   "execution_count": 8,
   "id": "c96d97b0",
   "metadata": {},
   "outputs": [
    {
     "name": "stdout",
     "output_type": "stream",
     "text": [
      "limit=100&query=fish%20finder&clerk-content-id=2&template=search-page&facets=%5B%27price%27%2C%20%27categories%27%2C%20%27brand%27%5D&key=GiC2jNYSWTM2HiQ6jjLq7F5U0iGAtjIM&visitor=QAYEIEgA&_=1641180912\n"
     ]
    }
   ],
   "source": [
    "print(urlencode(payload, quote_via=quote))\n",
    "search = 'watch'"
   ]
  },
  {
   "cell_type": "code",
   "execution_count": 9,
   "id": "65cedb60",
   "metadata": {},
   "outputs": [
    {
     "name": "stdout",
     "output_type": "stream",
     "text": [
      "%7B%22limit%22%3A100%2C%22query%22%3A%22watch%22%2C%22clerk-content-id%22%3A2%2C%22template%22%3A%22search-page%22%2C%22facets%22%3A%5B%22price%22%2C%22categories%22%2C%22brand%22%5D%2C%22key%22%3A%22GiC2jNYSWTM2HiQ6jjLq7F5U0iGAtjIM%22%2C%22visitor%22%3A%22QAYEIEgA%22%2C%22_%22%3A1641180912%7D\n"
     ]
    }
   ],
   "source": [
    "print(quote('{\"limit\":100,\"query\":'+ '\"' + search +'\"'+',\"clerk-content-id\":2,\"template\":\"search-page\",\"facets\":[\"price\",\"categories\",\"brand\"],\"key\":\"GiC2jNYSWTM2HiQ6jjLq7F5U0iGAtjIM\",\"visitor\":\"QAYEIEgA\",\"_\":1641180912}'))"
   ]
  },
  {
   "cell_type": "code",
   "execution_count": null,
   "id": "b561e8c0",
   "metadata": {},
   "outputs": [],
   "source": []
  },
  {
   "cell_type": "code",
   "execution_count": 10,
   "id": "66e260a3",
   "metadata": {},
   "outputs": [
    {
     "data": {
      "text/plain": [
       "['https://api.clerk.io/v2/?payload=%7B%22limit%22%3A100%2C%22query%22%3A%22watch%22%2C%22clerk-content-id%22%3A2%2C%22template%22%3A%22search-page%22%2C%22facets%22%3A%5B%22price%22%2C%22categories%22%2C%22brand%22%5D%2C%22key%22%3A%22GiC2jNYSWTM2HiQ6jjLq7F5U0iGAtjIM%22%2C%22visitor%22%3A%22QAYEIEgA%22%2C%22_%22%3A1641180912%7D']"
      ]
     },
     "execution_count": 10,
     "metadata": {},
     "output_type": "execute_result"
    }
   ],
   "source": [
    "def get_new_api_url(search_string):\n",
    "    payload = quote('{\"limit\":100,\"query\":'+ '\"' + search_string +'\"'+',\"clerk-content-id\":2,\"template\":\"search-page\",\"facets\":[\"price\",\"categories\",\"brand\"],\"key\":\"GiC2jNYSWTM2HiQ6jjLq7F5U0iGAtjIM\",\"visitor\":\"QAYEIEgA\",\"_\":1641180912}')\n",
    "    urls = f'https://api.clerk.io/v2/?payload={payload}'\n",
    "    return [ urls ]\n",
    "\n",
    "get_new_api_url('watch')"
   ]
  },
  {
   "cell_type": "code",
   "execution_count": 11,
   "id": "75dcf951",
   "metadata": {},
   "outputs": [],
   "source": [
    "def download_product_technologies(technology_ids):\n",
    "        headers = {\n",
    "                'user-agent': 'Mozilla/5.0 (X11; Ubuntu; Linux x86_64; rv:73.0) Gecko/20100101 Firefox/73.0',\n",
    "                'host': 'www.neonet.pl',\n",
    "                'accept': '*/*'\n",
    "            }\n",
    "        params = {\n",
    "            'query': 'query technologies($ids: [Int!]) { technologies(ids: $ids) { id,name,description,thumbnail,image,order } }',\n",
    "            'variables': '{\"ids\":' + str(technology_ids) + '}',\n",
    "            'v': '2.63.0'\n",
    "        }\n",
    "        url = 'https://www.neonet.pl/graphql?{}'.format(urlencode(params))\n",
    "\n",
    "        response = requests.get(url, headers=headers)\n",
    "\n",
    "        return response.text\n",
    "    "
   ]
  },
  {
   "cell_type": "code",
   "execution_count": 12,
   "id": "c4abb839",
   "metadata": {},
   "outputs": [
    {
     "name": "stdout",
     "output_type": "stream",
     "text": [
      "Моторола\n"
     ]
    }
   ],
   "source": [
    "unqouteme = '''%D0%9C%D0%BE%D1%82%D0%BE%D1%80%D0%BE%D0%BB%D0%B0'''\n",
    "print(unquote(unqouteme))"
   ]
  },
  {
   "cell_type": "code",
   "execution_count": 13,
   "id": "164a5be0",
   "metadata": {},
   "outputs": [
    {
     "name": "stdout",
     "output_type": "stream",
     "text": [
      "timeout=500&wait=7\n"
     ]
    }
   ],
   "source": [
    "params = {\n",
    "    \"timeout\": 500,\n",
    "    \"wait\": 7\n",
    "}\n",
    "print(urlencode(params))"
   ]
  },
  {
   "cell_type": "code",
   "execution_count": 14,
   "id": "dd058640",
   "metadata": {},
   "outputs": [
    {
     "name": "stdout",
     "output_type": "stream",
     "text": [
      "%3A\n"
     ]
    }
   ],
   "source": [
    "print(quote(':'))"
   ]
  }
 ],
 "metadata": {
  "kernelspec": {
   "display_name": "Python 3 (ipykernel)",
   "language": "python",
   "name": "python3"
  },
  "language_info": {
   "codemirror_mode": {
    "name": "ipython",
    "version": 3
   },
   "file_extension": ".py",
   "mimetype": "text/x-python",
   "name": "python",
   "nbconvert_exporter": "python",
   "pygments_lexer": "ipython3",
   "version": "3.8.10"
  }
 },
 "nbformat": 4,
 "nbformat_minor": 5
}
