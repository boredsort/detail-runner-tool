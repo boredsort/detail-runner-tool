{
 "cells": [
  {
   "cell_type": "code",
   "execution_count": 1,
   "id": "f4abf504",
   "metadata": {},
   "outputs": [
    {
     "ename": "ModuleNotFoundError",
     "evalue": "No module named 'pyperclip'",
     "output_type": "error",
     "traceback": [
      "\u001b[0;31m---------------------------------------------------------------------------\u001b[0m",
      "\u001b[0;31mModuleNotFoundError\u001b[0m                       Traceback (most recent call last)",
      "\u001b[0;32m/tmp/ipykernel_17342/1294563064.py\u001b[0m in \u001b[0;36m<module>\u001b[0;34m\u001b[0m\n\u001b[0;32m----> 1\u001b[0;31m \u001b[0;32mimport\u001b[0m \u001b[0mpyperclip\u001b[0m\u001b[0;34m\u001b[0m\u001b[0;34m\u001b[0m\u001b[0m\n\u001b[0m\u001b[1;32m      2\u001b[0m \u001b[0;34m\u001b[0m\u001b[0m\n\u001b[1;32m      3\u001b[0m \u001b[0;32mfrom\u001b[0m \u001b[0mtools\u001b[0m \u001b[0;32mimport\u001b[0m \u001b[0;34m*\u001b[0m\u001b[0;34m\u001b[0m\u001b[0;34m\u001b[0m\u001b[0m\n\u001b[1;32m      4\u001b[0m \u001b[0;34m\u001b[0m\u001b[0m\n\u001b[1;32m      5\u001b[0m \u001b[0mtoday\u001b[0m \u001b[0;34m=\u001b[0m \u001b[0mget_date\u001b[0m\u001b[0;34m(\u001b[0m\u001b[0;34m)\u001b[0m\u001b[0;34m\u001b[0m\u001b[0;34m\u001b[0m\u001b[0m\n",
      "\u001b[0;31mModuleNotFoundError\u001b[0m: No module named 'pyperclip'"
     ]
    }
   ],
   "source": [
    "import pyperclip\n",
    "\n",
    "from tools import *\n",
    "\n",
    "today = get_date()"
   ]
  },
  {
   "cell_type": "code",
   "execution_count": null,
   "id": "48dd7d62",
   "metadata": {},
   "outputs": [],
   "source": [
    "#----------------------START-HERE--------------------------------#\n",
    "website = 0\n",
    "db = 'F00'\n",
    "metric = 'comp'\n",
    "status = 1\n",
    "\n",
    "prefix = None\n",
    "# use prefix None for comp and webshoot\n",
    "if not prefix and (metric == 'list' or metric == 1 or metric == 'rank' or metric == 2):\n",
    "    db_suffix = f'{db}'\n",
    "    prefix = f'{today}@22:00:00@{db_suffix}' \n",
    "\n",
    "values = '''\n",
    "K00CH2S03O000001431570202106020353\n",
    "K00CH2S03O000001431580202106020353\n",
    "K00CH2S03O000001431600202106020353\n",
    "K00CH2S02O000001431560202106020353\n",
    "K00CH2S0AD000001431760202106020353\n",
    "K00CH2S0AD000001537000202108110153\n",
    "K00CH2S0AD000001537010202108110153\n",
    "K00CH2S0AO000001431910202106020353\n",
    "K00CH2S04K000001537050202108110153\n",
    "K00CH2S04K000001537060202108110153\n",
    "K00CH2S04K000001537070202108110153\n",
    "K00CH2S04K000001431960202106020353\n",
    "K00CH2S04K000001431920202106020353\n",
    "K00CH2S03F000001432170202106020354\n",
    "K00CH2S0CG000001421980202105200151\n",
    "K00CH2S0CG000001421950202105200149\n",
    "K00CH2S0CG000001421930202105200148\n",
    "K00CH2S0CG000001422280202105200213\n",
    "K00CH2S05K000001432540202106020354\n",
    "K00CH2S0MO000001432560202106020354\n",
    "K00CH2S0CG000001506690202107200728\n",
    "'''"
   ]
  },
  {
   "cell_type": "code",
   "execution_count": null,
   "id": "5508f295",
   "metadata": {},
   "outputs": [
    {
     "name": "stdout",
     "output_type": "stream",
     "text": [
      "'K00CH2S03O000001431570202106020353',\n",
      "'K00CH2S03O000001431580202106020353',\n",
      "'K00CH2S03O000001431600202106020353',\n",
      "'K00CH2S02O000001431560202106020353',\n",
      "'K00CH2S0AD000001431760202106020353',\n",
      "'K00CH2S0AD000001537000202108110153',\n",
      "'K00CH2S0AD000001537010202108110153',\n",
      "'K00CH2S0AO000001431910202106020353',\n",
      "'K00CH2S04K000001537050202108110153',\n",
      "'K00CH2S04K000001537060202108110153',\n",
      "'K00CH2S04K000001537070202108110153',\n",
      "'K00CH2S04K000001431960202106020353',\n",
      "'K00CH2S04K000001431920202106020353',\n",
      "'K00CH2S03F000001432170202106020354',\n",
      "'K00CH2S0CG000001421980202105200151',\n",
      "'K00CH2S0CG000001421950202105200149',\n",
      "'K00CH2S0CG000001421930202105200148',\n",
      "'K00CH2S0CG000001422280202105200213',\n",
      "'K00CH2S05K000001432540202106020354',\n",
      "'K00CH2S0MO000001432560202106020354',\n",
      "'K00CH2S0CG000001506690202107200728'\n"
     ]
    }
   ],
   "source": [
    "#---------------------MULTIPLE-VALUES-FOR-SQL----------------------#\n",
    "print(sqlFormat(values, website))"
   ]
  },
  {
   "cell_type": "code",
   "execution_count": null,
   "id": "9b4c0065",
   "metadata": {},
   "outputs": [
    {
     "name": "stdout",
     "output_type": "stream",
     "text": [
      "python rerun_cmp.py -s CRAWL_FINISHED -l 2022-02-04@22:00:00@K00CH2S03O000001431570202106020353,2022-02-04@22:00:00@K00CH2S03O000001431580202106020353,2022-02-04@22:00:00@K00CH2S03O000001431600202106020353,2022-02-04@22:00:00@K00CH2S02O000001431560202106020353,2022-02-04@22:00:00@K00CH2S0AD000001431760202106020353,2022-02-04@22:00:00@K00CH2S0AD000001537000202108110153,2022-02-04@22:00:00@K00CH2S0AD000001537010202108110153,2022-02-04@22:00:00@K00CH2S0AO000001431910202106020353,2022-02-04@22:00:00@K00CH2S04K000001537050202108110153,2022-02-04@22:00:00@K00CH2S04K000001537060202108110153,2022-02-04@22:00:00@K00CH2S04K000001537070202108110153,2022-02-04@22:00:00@K00CH2S04K000001431960202106020353,2022-02-04@22:00:00@K00CH2S04K000001431920202106020353,2022-02-04@22:00:00@K00CH2S03F000001432170202106020354,2022-02-04@22:00:00@K00CH2S0CG000001421980202105200151,2022-02-04@22:00:00@K00CH2S0CG000001421950202105200149,2022-02-04@22:00:00@K00CH2S0CG000001421930202105200148,2022-02-04@22:00:00@K00CH2S0CG000001422280202105200213,2022-02-04@22:00:00@K00CH2S05K000001432540202106020354,2022-02-04@22:00:00@K00CH2S0MO000001432560202106020354,2022-02-04@22:00:00@K00CH2S0CG000001506690202107200728\n"
     ]
    }
   ],
   "source": [
    "# ------------------------RERUN-------------------------------------#\n",
    "ids = rerunFormat(values, prefix)\n",
    "# print(ids) \n",
    "print(get_commands(metric, status, ids, db))"
   ]
  }
 ],
 "metadata": {
  "kernelspec": {
   "display_name": "Python 3 (ipykernel)",
   "language": "python",
   "name": "python3"
  },
  "language_info": {
   "codemirror_mode": {
    "name": "ipython",
    "version": 3
   },
   "file_extension": ".py",
   "mimetype": "text/x-python",
   "name": "python",
   "nbconvert_exporter": "python",
   "pygments_lexer": "ipython3",
   "version": "3.8.10"
  }
 },
 "nbformat": 4,
 "nbformat_minor": 5
}
