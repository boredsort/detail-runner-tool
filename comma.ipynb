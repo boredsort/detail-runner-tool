{
 "cells": [
  {
   "cell_type": "code",
   "execution_count": 71,
   "id": "f4abf504",
   "metadata": {},
   "outputs": [],
   "source": [
    "from tools import *\n",
    "\n",
    "today = get_date()"
   ]
  },
  {
   "cell_type": "code",
   "execution_count": 72,
   "id": "48dd7d62",
   "metadata": {},
   "outputs": [],
   "source": [
    "#----------------------START-HERE--------------------------------#\n",
    "website = 0\n",
    "db = 'A10'\n",
    "metric = 'comp'\n",
    "status = 1\n",
    "prefix = f'{today}@22:00:00@O00'\n",
    "prefix = None\n",
    "# use prefix None for comp and webshoot\n",
    "\n",
    "if not prefix and (metric == 'list' or metric == 1 or metric == 'rank' or metric == 2):\n",
    "    db_suffix = f'{db}'\n",
    "    prefix = f'{today}@20:00:00@{db_suffix}' \n",
    "\n",
    "values = '''\n",
    "200DE91070000000702650201905280505\n",
    "'''\n",
    "temp = '''\n",
    "110BE9B0RV020210927043811011860270\n",
    "110BE9B0OL000001478320202107120649\n",
    "'''"
   ]
  },
  {
   "cell_type": "markdown",
   "id": "5508f295",
   "metadata": {},
   "source": [
    "#---------------------MULTIPLE-VALUES-FOR-SQL----------------------\n"
   ]
  },
  {
   "cell_type": "code",
   "execution_count": 73,
   "id": "cafca648",
   "metadata": {},
   "outputs": [
    {
     "name": "stdout",
     "output_type": "stream",
     "text": [
      "'200DE91070000000702650201905280505'\n"
     ]
    }
   ],
   "source": [
    "print(sqlFormat(values, website))"
   ]
  },
  {
   "cell_type": "markdown",
   "id": "41970675",
   "metadata": {},
   "source": []
  },
  {
   "cell_type": "code",
   "execution_count": 74,
   "id": "9b4c0065",
   "metadata": {},
   "outputs": [
    {
     "name": "stdout",
     "output_type": "stream",
     "text": [
      "python rerun_cmp.py -s CRAWL_FINISHED -l 2022-06-07@22:00:00@200DE91070000000702650201905280505\n"
     ]
    }
   ],
   "source": [
    "# ------------------------RERUN-------------------------------------#\n",
    "ids = rerunFormat(values, prefix)\n",
    "# print(ids) \n",
    "print(get_commands(metric, status, ids, db))"
   ]
  },
  {
   "cell_type": "markdown",
   "id": "183d76bb",
   "metadata": {},
   "source": []
  },
  {
   "cell_type": "code",
   "execution_count": 75,
   "id": "32ecfec6",
   "metadata": {},
   "outputs": [
    {
     "name": "stdout",
     "output_type": "stream",
     "text": [
      "[\"2022-06-07@22:00:00@200DE91070000000702650201905280505\"]\n"
     ]
    }
   ],
   "source": [
    "# couch query\n",
    "\n",
    "print(format_couch_multi_query(ids))"
   ]
  }
 ],
 "metadata": {
  "kernelspec": {
   "display_name": "Python 3 (ipykernel)",
   "language": "python",
   "name": "python3"
  },
  "language_info": {
   "codemirror_mode": {
    "name": "ipython",
    "version": 3
   },
   "file_extension": ".py",
   "mimetype": "text/x-python",
   "name": "python",
   "nbconvert_exporter": "python",
   "pygments_lexer": "ipython3",
   "version": "3.8.10"
  }
 },
 "nbformat": 4,
 "nbformat_minor": 5
}
