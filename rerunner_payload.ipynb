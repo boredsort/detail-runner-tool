{
 "cells": [
  {
   "cell_type": "code",
   "execution_count": 277,
   "metadata": {},
   "outputs": [],
   "source": [
    "import json\n",
    "from tools import *"
   ]
  },
  {
   "cell_type": "code",
   "execution_count": 278,
   "metadata": {},
   "outputs": [],
   "source": [
    "metric = 'comp'\n",
    "mode = 'rerun'\n",
    "\n",
    "# needed for rankings and listings\n",
    "override_date = ''\n",
    "override_trigger_time = '23:00:00'\n",
    "db = 'K00'\n",
    "# db = '100'\n",
    "country = 'nl'\n",
    "# country = 'us'\n",
    "# retailer = 'www.target.com'\n",
    "retailer = 'www.ebuyer.com'\n",
    "\n",
    "values = '''\n",
    "K00SA5X0CG000001519670202107260605\n",
    "K00SA5X0CG000001519800202107260605\n",
    "K00SA5X0CG000001519820202107260605\n",
    "K00SA5X0CG000001519830202107260605\n",
    "\n",
    "\n",
    "'''\n",
    "temp = '''\n",
    "\n",
    "'''"
   ]
  },
  {
   "cell_type": "code",
   "execution_count": 279,
   "metadata": {},
   "outputs": [
    {
     "name": "stdout",
     "output_type": "stream",
     "text": [
      "{\n",
      "   \"version\": \"1.0\",\n",
      "   \"request\": {\n",
      "      \"task_name\": \"Comparisons-Rerun-2022-11-02-21:00:00\",\n",
      "      \"user_uuid\": \"1Q2W3E4R5T6Y7U8I9O0P\",\n",
      "      \"data\": {\n",
      "         \"company\": \"K00\",\n",
      "         \"run_mode\": \"rerun\",\n",
      "         \"schedule_time\": \"21:00:00\",\n",
      "         \"schedule_date\": \"2022-11-02\",\n",
      "         \"retailers\": [],\n",
      "         \"data_points\": [\n",
      "            \"K00SA5X0CG000001519670202107260605\",\n",
      "            \"K00SA5X0CG000001519800202107260605\",\n",
      "            \"K00SA5X0CG000001519820202107260605\",\n",
      "            \"K00SA5X0CG000001519830202107260605\"\n",
      "         ]\n",
      "      }\n",
      "   }\n",
      "}\n"
     ]
    }
   ],
   "source": [
    "payload = payload_builder(values, metric, override_date, override_trigger_time, retailer, mode, country, db)\n",
    "\n",
    "# _json = json.loads()\n",
    "print(json.dumps(payload,indent=3))"
   ]
  },
  {
   "cell_type": "code",
   "execution_count": 280,
   "metadata": {},
   "outputs": [
    {
     "name": "stdout",
     "output_type": "stream",
     "text": [
      "'K00SA5X0CG000001519670202107260605',\n",
      "'K00SA5X0CG000001519800202107260605',\n",
      "'K00SA5X0CG000001519820202107260605',\n",
      "'K00SA5X0CG000001519830202107260605'\n"
     ]
    }
   ],
   "source": [
    "print(sqlFormat(values))"
   ]
  }
 ],
 "metadata": {
  "kernelspec": {
   "display_name": "Python 3.10.4 ('notebook-vRISf1aQ')",
   "language": "python",
   "name": "python3"
  },
  "language_info": {
   "codemirror_mode": {
    "name": "ipython",
    "version": 3
   },
   "file_extension": ".py",
   "mimetype": "text/x-python",
   "name": "python",
   "nbconvert_exporter": "python",
   "pygments_lexer": "ipython3",
   "version": "3.10.4"
  },
  "orig_nbformat": 4,
  "vscode": {
   "interpreter": {
    "hash": "9ec0283fba8c21e2e53ec46cd7c4ccccaa06a8a8928d1af1f08425a7716877c1"
   }
  }
 },
 "nbformat": 4,
 "nbformat_minor": 2
}
